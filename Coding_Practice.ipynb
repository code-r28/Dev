{
  "nbformat": 4,
  "nbformat_minor": 0,
  "metadata": {
    "colab": {
      "provenance": [],
      "toc_visible": true,
      "authorship_tag": "ABX9TyN2NkE6stQ30qPIXz7KN7Hz",
      "include_colab_link": true
    },
    "kernelspec": {
      "name": "python3",
      "display_name": "Python 3"
    },
    "language_info": {
      "name": "python"
    }
  },
  "cells": [
    {
      "cell_type": "markdown",
      "metadata": {
        "id": "view-in-github",
        "colab_type": "text"
      },
      "source": [
        "<a href=\"https://colab.research.google.com/github/code-r28/Dev/blob/main/Coding_Practice.ipynb\" target=\"_parent\"><img src=\"https://colab.research.google.com/assets/colab-badge.svg\" alt=\"Open In Colab\"/></a>"
      ]
    },
    {
      "cell_type": "code",
      "execution_count": null,
      "metadata": {
        "id": "3sjGCo3oQJTq"
      },
      "outputs": [],
      "source": [
        "import numpy as np"
      ]
    },
    {
      "cell_type": "code",
      "source": [
        "A=np.arange(1,17).reshape(4,4)"
      ],
      "metadata": {
        "id": "x6LloxRAQMl_"
      },
      "execution_count": null,
      "outputs": []
    },
    {
      "cell_type": "markdown",
      "source": [
        "#Transpose Matrix"
      ],
      "metadata": {
        "id": "apkrXQruU9x3"
      }
    },
    {
      "cell_type": "code",
      "source": [
        "print(\"Matrix\")"
      ],
      "metadata": {
        "colab": {
          "base_uri": "https://localhost:8080/"
        },
        "id": "8oaPfo69QMby",
        "outputId": "3c0d7952-9864-40a7-9fcb-d0fb21c601a6"
      },
      "execution_count": null,
      "outputs": [
        {
          "output_type": "stream",
          "name": "stdout",
          "text": [
            "Matrix\n"
          ]
        }
      ]
    },
    {
      "cell_type": "code",
      "source": [
        "print(A)"
      ],
      "metadata": {
        "colab": {
          "base_uri": "https://localhost:8080/"
        },
        "id": "ZNtoG4WEQMQX",
        "outputId": "2187bc31-a490-4824-be40-6880cbc247d9"
      },
      "execution_count": null,
      "outputs": [
        {
          "output_type": "stream",
          "name": "stdout",
          "text": [
            "[[ 1  2  3  4]\n",
            " [ 5  6  7  8]\n",
            " [ 9 10 11 12]\n",
            " [13 14 15 16]]\n"
          ]
        }
      ]
    },
    {
      "cell_type": "code",
      "source": [
        "print(\"Transpose of the Matrix\")"
      ],
      "metadata": {
        "colab": {
          "base_uri": "https://localhost:8080/"
        },
        "id": "dC7HghhFQMOA",
        "outputId": "4fe674c7-0d34-4ac1-9c33-8916ea06a581"
      },
      "execution_count": null,
      "outputs": [
        {
          "output_type": "stream",
          "name": "stdout",
          "text": [
            "Transpose of the Matrix\n"
          ]
        }
      ]
    },
    {
      "cell_type": "code",
      "source": [
        "print(A.transpose())"
      ],
      "metadata": {
        "colab": {
          "base_uri": "https://localhost:8080/"
        },
        "id": "Xz_ixyxmQpVh",
        "outputId": "d1866a37-66a7-4936-fee0-717091c448c0"
      },
      "execution_count": null,
      "outputs": [
        {
          "output_type": "stream",
          "name": "stdout",
          "text": [
            "[[ 1  5  9 13]\n",
            " [ 2  6 10 14]\n",
            " [ 3  7 11 15]\n",
            " [ 4  8 12 16]]\n"
          ]
        }
      ]
    },
    {
      "cell_type": "markdown",
      "source": [
        "#Matrix Multiplication"
      ],
      "metadata": {
        "id": "eFRlgJuDR4iI"
      }
    },
    {
      "cell_type": "code",
      "source": [
        "B=np.arange(18,34).reshape(4,4)"
      ],
      "metadata": {
        "id": "qp3JnUH3R4H3"
      },
      "execution_count": null,
      "outputs": []
    },
    {
      "cell_type": "code",
      "source": [
        "A.dot(B) #Multiplcation function"
      ],
      "metadata": {
        "colab": {
          "base_uri": "https://localhost:8080/"
        },
        "id": "mvvsuc16SFob",
        "outputId": "d53da776-9ce9-4322-a3b7-c22121b76575"
      },
      "execution_count": null,
      "outputs": [
        {
          "output_type": "execute_result",
          "data": {
            "text/plain": [
              "array([[ 260,  270,  280,  290],\n",
              "       [ 644,  670,  696,  722],\n",
              "       [1028, 1070, 1112, 1154],\n",
              "       [1412, 1470, 1528, 1586]])"
            ]
          },
          "metadata": {},
          "execution_count": 26
        }
      ]
    },
    {
      "cell_type": "code",
      "source": [
        "C=np.arange(35,51).reshape(4,4)"
      ],
      "metadata": {
        "id": "SmeXcSncTCFr"
      },
      "execution_count": null,
      "outputs": []
    },
    {
      "cell_type": "code",
      "source": [
        "# ABC=(AB)C=A(BC)\n",
        "temp1=(A.dot(B).dot(C))\n",
        "temp2=A.dot((B).dot(C))"
      ],
      "metadata": {
        "id": "IKs3GP2YTB-m"
      },
      "execution_count": null,
      "outputs": []
    },
    {
      "cell_type": "code",
      "source": [
        "print(temp1)\n",
        "print(temp2)"
      ],
      "metadata": {
        "colab": {
          "base_uri": "https://localhost:8080/"
        },
        "id": "c1WWtiu0TBpj",
        "outputId": "f874e8bc-bb46-4a8c-9d2e-fad61c8f28f3"
      },
      "execution_count": null,
      "outputs": [
        {
          "output_type": "stream",
          "name": "stdout",
          "text": [
            "[[ 45300  46400  47500  48600]\n",
            " [112532 115264 117996 120728]\n",
            " [179764 184128 188492 192856]\n",
            " [246996 252992 258988 264984]]\n",
            "[[ 45300  46400  47500  48600]\n",
            " [112532 115264 117996 120728]\n",
            " [179764 184128 188492 192856]\n",
            " [246996 252992 258988 264984]]\n"
          ]
        }
      ]
    },
    {
      "cell_type": "markdown",
      "source": [
        "#Inverse Matrix"
      ],
      "metadata": {
        "id": "E7Pb3QT5Ul7v"
      }
    },
    {
      "cell_type": "code",
      "source": [
        "arr=np.arange(91,107).reshape(4,4)\n",
        "print(arr)"
      ],
      "metadata": {
        "colab": {
          "base_uri": "https://localhost:8080/"
        },
        "id": "kMi6Xs6MUoPX",
        "outputId": "57fee1f5-fabf-4c9c-de29-0fc6b0924c9d"
      },
      "execution_count": null,
      "outputs": [
        {
          "output_type": "stream",
          "name": "stdout",
          "text": [
            "[[ 91  92  93  94]\n",
            " [ 95  96  97  98]\n",
            " [ 99 100 101 102]\n",
            " [103 104 105 106]]\n"
          ]
        }
      ]
    },
    {
      "cell_type": "code",
      "source": [
        "np.linalg.det(arr)"
      ],
      "metadata": {
        "colab": {
          "base_uri": "https://localhost:8080/"
        },
        "id": "qWt8Vl-UU4j3",
        "outputId": "5943bbc8-9f02-45ab-cbaa-5ab45a5ec6bb"
      },
      "execution_count": null,
      "outputs": [
        {
          "output_type": "execute_result",
          "data": {
            "text/plain": [
              "2.4233807008391215e-27"
            ]
          },
          "metadata": {},
          "execution_count": 39
        }
      ]
    },
    {
      "cell_type": "code",
      "source": [
        "np.linalg.inv(arr)"
      ],
      "metadata": {
        "colab": {
          "base_uri": "https://localhost:8080/"
        },
        "id": "lsajRkHMVjqH",
        "outputId": "15c326a7-ba7a-4543-a89f-cabd687cca1e"
      },
      "execution_count": null,
      "outputs": [
        {
          "output_type": "execute_result",
          "data": {
            "text/plain": [
              "array([[ 2.34562481e+13, -8.66990291e+00, -7.03687442e+13,\n",
              "         4.69124961e+13],\n",
              "       [-2.86669922e+00, -7.03687442e+13,  1.40737488e+14,\n",
              "        -7.03687442e+13],\n",
              "       [-7.03687442e+13,  1.40737488e+14, -7.03687442e+13,\n",
              "        -0.00000000e+00],\n",
              "       [ 4.69124961e+13, -7.03687442e+13, -0.00000000e+00,\n",
              "         2.34562481e+13]])"
            ]
          },
          "metadata": {},
          "execution_count": 40
        }
      ]
    }
  ]
}